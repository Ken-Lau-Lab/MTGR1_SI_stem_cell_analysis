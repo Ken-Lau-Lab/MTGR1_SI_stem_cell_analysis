{
 "cells": [
  {
   "cell_type": "markdown",
   "id": "0432f2e3-d675-47ba-b83c-d6bfd7194832",
   "metadata": {},
   "source": [
    "# clean up filtered dataset to prepare for upload"
   ]
  },
  {
   "cell_type": "code",
   "execution_count": 3,
   "id": "aafffb56-31ab-4e9c-b45c-7c1b735426eb",
   "metadata": {},
   "outputs": [],
   "source": [
    "import scanpy as sc\n",
    "import numpy as np\n",
    "import pandas as pd"
   ]
  },
  {
   "cell_type": "code",
   "execution_count": null,
   "id": "4263a778-14aa-4a90-b48f-a13bb6acaca9",
   "metadata": {},
   "outputs": [],
   "source": []
  },
  {
   "cell_type": "code",
   "execution_count": null,
   "id": "988fd268-86f5-4737-9e8e-db7750688a0e",
   "metadata": {},
   "outputs": [],
   "source": []
  },
  {
   "cell_type": "markdown",
   "id": "81c1c1d6-068f-4f67-bd21-3618c96c2d9f",
   "metadata": {},
   "source": [
    "## load data"
   ]
  },
  {
   "cell_type": "code",
   "execution_count": 2,
   "id": "c4643c10-d3e8-4b92-805a-42f433a1e5c2",
   "metadata": {},
   "outputs": [],
   "source": [
    "dat1 = sc.read(\"/home/lucy/Dropbox/random_data_check/filtered_data/10868_1_zc_filtered.h5ad\")"
   ]
  },
  {
   "cell_type": "code",
   "execution_count": 3,
   "id": "7741eba0-afac-4338-b0a7-0ee5669cce0c",
   "metadata": {},
   "outputs": [],
   "source": [
    "dat2 = sc.read(\"/home/lucy/Dropbox/random_data_check/filtered_data/10868_2_zc_filtered.h5ad\")"
   ]
  },
  {
   "cell_type": "code",
   "execution_count": 4,
   "id": "9de34969-99df-414a-a6bc-d33ae53acf0b",
   "metadata": {},
   "outputs": [],
   "source": [
    "dat3 = sc.read(\"/home/lucy/Dropbox/random_data_check/filtered_data/10868_3_zc_filtered.h5ad\")"
   ]
  },
  {
   "cell_type": "code",
   "execution_count": 5,
   "id": "03a18167-9e75-4920-9930-b0d8fa5ba6cb",
   "metadata": {},
   "outputs": [],
   "source": [
    "dat5 = sc.read(\"/home/lucy/Dropbox/random_data_check/filtered_data/10868_5_zc_filtered.h5ad\")"
   ]
  },
  {
   "cell_type": "code",
   "execution_count": 6,
   "id": "a414eb64-352d-4033-b5b6-0d61384477ef",
   "metadata": {},
   "outputs": [],
   "source": [
    "dat6 = sc.read(\"./new_sample_10868_filtered/11283_1_filtered.h5ad\")"
   ]
  },
  {
   "cell_type": "code",
   "execution_count": null,
   "id": "ab88043a-09a2-4632-a67d-34f65114c7ee",
   "metadata": {},
   "outputs": [],
   "source": []
  },
  {
   "cell_type": "code",
   "execution_count": null,
   "id": "4af6676e-da95-423d-a791-4fde49c5224a",
   "metadata": {},
   "outputs": [],
   "source": []
  },
  {
   "cell_type": "markdown",
   "id": "25ecec63-2a8f-418e-ad00-693f26115e0e",
   "metadata": {},
   "source": [
    "## clean up metadata info"
   ]
  },
  {
   "cell_type": "markdown",
   "id": "3e09d3b4-bd92-4b98-acfd-7d76adef5b83",
   "metadata": {},
   "source": [
    "- obs to-keep columns: 'total_counts', 'n_genes_by_counts', 'log1p_n_genes_by_counts', 'log1p_total_counts', 'pct_counts_in_top_50_genes', 'pct_counts_in_top_100_genes', 'pct_counts_in_top_200_genes', 'pct_counts_in_top_500_genes', 'total_counts_Mitochondrial', 'log1p_total_counts_Mitochondrial', 'pct_counts_Mitochondrial'\n",
    "- var to keep: 'Mitochondrial', 'n_cells_by_counts', 'mean_counts', 'log1p_mean_counts', 'pct_dropout_by_counts', 'total_counts', 'log1p_total_counts', 'mean', 'std', 'n_counts',\n",
    "- uns to keep: 'neighbors', 'pca', 'umap'"
   ]
  },
  {
   "cell_type": "code",
   "execution_count": 8,
   "id": "6e2c4453-791d-4570-8f34-591c354b5743",
   "metadata": {},
   "outputs": [],
   "source": [
    "obs_keep = ['total_counts', 'n_genes_by_counts', 'log1p_n_genes_by_counts', 'log1p_total_counts', 'pct_counts_in_top_50_genes', 'pct_counts_in_top_100_genes', 'pct_counts_in_top_200_genes', 'pct_counts_in_top_500_genes', 'total_counts_Mitochondrial', 'log1p_total_counts_Mitochondrial', 'pct_counts_Mitochondrial']\n",
    "var_keep =  ['Mitochondrial', 'n_cells_by_counts', 'mean_counts', 'log1p_mean_counts', 'pct_dropout_by_counts']\n",
    "uns_keep = ['neighbors', 'pca', 'umap' ]"
   ]
  },
  {
   "cell_type": "markdown",
   "id": "9cb9e606-e0ca-474f-b41d-8bd226b93fa2",
   "metadata": {},
   "source": [
    "### clean data 1"
   ]
  },
  {
   "cell_type": "code",
   "execution_count": 7,
   "id": "8a1c4831-aed1-4731-860e-cae6e8c0bf5a",
   "metadata": {},
   "outputs": [
    {
     "data": {
      "text/plain": [
       "AnnData object with n_obs × n_vars = 3730 × 25941\n",
       "    obs: 'total_counts', 'n_genes_by_counts', 'log1p_n_genes_by_counts', 'log1p_total_counts', 'pct_counts_in_top_50_genes', 'pct_counts_in_top_100_genes', 'pct_counts_in_top_200_genes', 'pct_counts_in_top_500_genes', 'total_counts_Mitochondrial', 'log1p_total_counts_Mitochondrial', 'pct_counts_Mitochondrial', 'dropkick_score', 'dropkick_label', 'arcsinh_n_genes_by_counts', 'n_counts', 'leiden', 'total_counts_ambient', 'log1p_total_counts_ambient', 'pct_counts_ambient'\n",
       "    var: 'Mitochondrial', 'n_cells_by_counts', 'mean_counts', 'log1p_mean_counts', 'pct_dropout_by_counts', 'total_counts', 'log1p_total_counts', 'dropkick_coef', 'mean', 'std', 'n_counts', 'ambient'\n",
       "    uns: 'Order', 'dropkick_args', 'dropkick_label_colors', 'dropkick_thresholds', 'inflection1', 'inflection_fold', 'leiden', 'leiden_colors', 'neighbors', 'pca', 'umap'\n",
       "    obsm: 'X_pca', 'X_umap'\n",
       "    varm: 'PCs'\n",
       "    obsp: 'connectivities', 'distances'"
      ]
     },
     "execution_count": 7,
     "metadata": {},
     "output_type": "execute_result"
    }
   ],
   "source": [
    "dat1"
   ]
  },
  {
   "cell_type": "code",
   "execution_count": 9,
   "id": "09038999-e78d-410b-936b-bbdd10842b4b",
   "metadata": {},
   "outputs": [],
   "source": [
    "dat1.obs = dat1.obs[ obs_keep]"
   ]
  },
  {
   "cell_type": "code",
   "execution_count": 14,
   "id": "cd93f253-4772-4693-89b1-e100d4128e83",
   "metadata": {},
   "outputs": [
    {
     "data": {
      "text/plain": [
       "{'connectivities_key': 'connectivities',\n",
       " 'distances_key': 'distances',\n",
       " 'params': {'method': 'umap',\n",
       "  'metric': 'euclidean',\n",
       "  'n_neighbors': 62,\n",
       "  'random_state': 0,\n",
       "  'use_rep': 'X_pca'}}"
      ]
     },
     "execution_count": 14,
     "metadata": {},
     "output_type": "execute_result"
    }
   ],
   "source": [
    "dat1.var = dat1.var[ var_keep]"
   ]
  },
  {
   "cell_type": "code",
   "execution_count": 15,
   "id": "c500aa99-a72f-4664-a64c-aef08d39c55d",
   "metadata": {},
   "outputs": [],
   "source": [
    "dat1.uns =  {k: dat1.uns[k] for k in uns_keep}"
   ]
  },
  {
   "cell_type": "code",
   "execution_count": 17,
   "id": "a751e048-084f-49e9-9670-1dc62c9c0aa0",
   "metadata": {},
   "outputs": [],
   "source": [
    "#dat1.uns"
   ]
  },
  {
   "cell_type": "code",
   "execution_count": 18,
   "id": "a7c009a8-effc-48e0-a85c-fd02b72a70cb",
   "metadata": {},
   "outputs": [
    {
     "data": {
      "text/plain": [
       "AnnData object with n_obs × n_vars = 3730 × 25941\n",
       "    obs: 'total_counts', 'n_genes_by_counts', 'log1p_n_genes_by_counts', 'log1p_total_counts', 'pct_counts_in_top_50_genes', 'pct_counts_in_top_100_genes', 'pct_counts_in_top_200_genes', 'pct_counts_in_top_500_genes', 'total_counts_Mitochondrial', 'log1p_total_counts_Mitochondrial', 'pct_counts_Mitochondrial'\n",
       "    var: 'Mitochondrial', 'n_cells_by_counts', 'mean_counts', 'log1p_mean_counts', 'pct_dropout_by_counts'\n",
       "    uns: 'neighbors', 'pca', 'umap'\n",
       "    obsm: 'X_pca', 'X_umap'\n",
       "    varm: 'PCs'\n",
       "    obsp: 'connectivities', 'distances'"
      ]
     },
     "execution_count": 18,
     "metadata": {},
     "output_type": "execute_result"
    }
   ],
   "source": [
    "dat1"
   ]
  },
  {
   "cell_type": "code",
   "execution_count": null,
   "id": "038271f6-e3d8-4add-9df5-7a73c38c51e3",
   "metadata": {},
   "outputs": [],
   "source": []
  },
  {
   "cell_type": "markdown",
   "id": "fd7953e9-2d63-4b2a-b338-96101e744b02",
   "metadata": {},
   "source": [
    "### data 2 "
   ]
  },
  {
   "cell_type": "code",
   "execution_count": 19,
   "id": "30d304cc-10d4-4e7c-91a7-a50ec8c808fe",
   "metadata": {
    "scrolled": true
   },
   "outputs": [
    {
     "data": {
      "text/plain": [
       "AnnData object with n_obs × n_vars = 5784 × 26211\n",
       "    obs: 'total_counts', 'n_genes_by_counts', 'log1p_n_genes_by_counts', 'log1p_total_counts', 'pct_counts_in_top_50_genes', 'pct_counts_in_top_100_genes', 'pct_counts_in_top_200_genes', 'pct_counts_in_top_500_genes', 'total_counts_Mitochondrial', 'log1p_total_counts_Mitochondrial', 'pct_counts_Mitochondrial', 'dropkick_score', 'dropkick_label', 'arcsinh_n_genes_by_counts', 'n_counts', 'leiden', 'total_counts_ambient', 'log1p_total_counts_ambient', 'pct_counts_ambient'\n",
       "    var: 'Mitochondrial', 'n_cells_by_counts', 'mean_counts', 'log1p_mean_counts', 'pct_dropout_by_counts', 'total_counts', 'log1p_total_counts', 'dropkick_coef', 'mean', 'std', 'n_counts', 'ambient'\n",
       "    uns: 'Order', 'dropkick_args', 'dropkick_label_colors', 'dropkick_thresholds', 'inflection1', 'inflection_fold', 'leiden', 'leiden_colors', 'neighbors', 'pca', 'umap'\n",
       "    obsm: 'X_pca', 'X_umap'\n",
       "    varm: 'PCs'\n",
       "    obsp: 'connectivities', 'distances'"
      ]
     },
     "execution_count": 19,
     "metadata": {},
     "output_type": "execute_result"
    }
   ],
   "source": [
    "dat2"
   ]
  },
  {
   "cell_type": "code",
   "execution_count": 20,
   "id": "7bcbccdb-52cb-416f-b968-b413dfec5ecf",
   "metadata": {},
   "outputs": [],
   "source": [
    "dat2.obs = dat2.obs[ obs_keep]"
   ]
  },
  {
   "cell_type": "code",
   "execution_count": 21,
   "id": "880d3bab-d92c-4e96-b82f-5dd7a7fa1cc1",
   "metadata": {},
   "outputs": [],
   "source": [
    "dat2.var = dat2.var[ var_keep]"
   ]
  },
  {
   "cell_type": "code",
   "execution_count": 22,
   "id": "6e8a716c-854f-49fd-b08b-5c6c9440e0f4",
   "metadata": {},
   "outputs": [],
   "source": [
    "dat2.uns =  {k: dat2.uns[k] for k in uns_keep}"
   ]
  },
  {
   "cell_type": "code",
   "execution_count": null,
   "id": "a327ce46-1089-4604-bdbc-e5407608b88b",
   "metadata": {},
   "outputs": [],
   "source": []
  },
  {
   "cell_type": "markdown",
   "id": "1aad1c28-0b7c-4cd7-aad0-d9092d5cf045",
   "metadata": {},
   "source": [
    "### data 3"
   ]
  },
  {
   "cell_type": "code",
   "execution_count": null,
   "id": "3c131008-a9d5-4a11-95e2-9429ef72494c",
   "metadata": {},
   "outputs": [],
   "source": []
  },
  {
   "cell_type": "code",
   "execution_count": 23,
   "id": "933a5b2e-5756-47ef-939a-cf3b16141914",
   "metadata": {},
   "outputs": [],
   "source": [
    "dat3.obs = dat3.obs[ obs_keep]"
   ]
  },
  {
   "cell_type": "code",
   "execution_count": 24,
   "id": "c0941abc-0e96-4761-b2fc-8e9f8aedcd4e",
   "metadata": {},
   "outputs": [],
   "source": [
    "dat3.var = dat3.var[ var_keep]"
   ]
  },
  {
   "cell_type": "code",
   "execution_count": 25,
   "id": "3b235ae0-2256-4136-b23c-0672e18d4833",
   "metadata": {},
   "outputs": [],
   "source": [
    "dat3.uns =  {k: dat3.uns[k] for k in uns_keep}"
   ]
  },
  {
   "cell_type": "code",
   "execution_count": null,
   "id": "81fcf8e9-0983-49e9-8fba-3fd9ece1260f",
   "metadata": {},
   "outputs": [],
   "source": []
  },
  {
   "cell_type": "markdown",
   "id": "c801ffb2-392d-4605-b774-250b2bd79d7c",
   "metadata": {},
   "source": [
    "### data 5"
   ]
  },
  {
   "cell_type": "code",
   "execution_count": 27,
   "id": "9f7e4163-90d5-400c-9250-75737f7df33e",
   "metadata": {},
   "outputs": [
    {
     "data": {
      "text/plain": [
       "AnnData object with n_obs × n_vars = 4505 × 27124\n",
       "    obs: 'total_counts', 'n_genes_by_counts', 'log1p_n_genes_by_counts', 'log1p_total_counts', 'pct_counts_in_top_50_genes', 'pct_counts_in_top_100_genes', 'pct_counts_in_top_200_genes', 'pct_counts_in_top_500_genes', 'total_counts_Mitochondrial', 'log1p_total_counts_Mitochondrial', 'pct_counts_Mitochondrial', 'dropkick_score', 'dropkick_label', 'arcsinh_n_genes_by_counts', 'n_counts', 'leiden', 'total_counts_ambient', 'log1p_total_counts_ambient', 'pct_counts_ambient'\n",
       "    var: 'Mitochondrial', 'n_cells_by_counts', 'mean_counts', 'log1p_mean_counts', 'pct_dropout_by_counts', 'total_counts', 'log1p_total_counts', 'mito', 'ambient', 'dropkick_coef', 'mean', 'std', 'n_counts'\n",
       "    uns: 'Order', 'dropkick_args', 'dropkick_label_colors', 'dropkick_thresholds', 'inflection1', 'inflection_fold', 'leiden', 'leiden_colors', 'neighbors', 'pca', 'umap'\n",
       "    obsm: 'X_pca', 'X_umap'\n",
       "    varm: 'PCs'\n",
       "    layers: 'raw_counts'\n",
       "    obsp: 'connectivities', 'distances'"
      ]
     },
     "execution_count": 27,
     "metadata": {},
     "output_type": "execute_result"
    }
   ],
   "source": [
    "dat5"
   ]
  },
  {
   "cell_type": "code",
   "execution_count": 28,
   "id": "aa42b49c-cb9b-495d-bd59-0f2d2bcef12b",
   "metadata": {},
   "outputs": [],
   "source": [
    "dat5.obs = dat5.obs[ obs_keep]"
   ]
  },
  {
   "cell_type": "code",
   "execution_count": 29,
   "id": "28007472-0d7a-4508-a81c-0750fe1485a1",
   "metadata": {},
   "outputs": [],
   "source": [
    "dat5.var = dat5.var[ var_keep]"
   ]
  },
  {
   "cell_type": "code",
   "execution_count": 30,
   "id": "50b308cc-0594-499f-9dee-1eb9b1b1d7b8",
   "metadata": {},
   "outputs": [],
   "source": [
    "dat5.uns =  {k: dat5.uns[k] for k in uns_keep}"
   ]
  },
  {
   "cell_type": "code",
   "execution_count": null,
   "id": "ebfb4d33-77f5-47d5-8997-b8b1dbacbc85",
   "metadata": {},
   "outputs": [],
   "source": []
  },
  {
   "cell_type": "markdown",
   "id": "c8db379e-2d36-4b4a-b392-08b420925976",
   "metadata": {},
   "source": [
    "### data 6 "
   ]
  },
  {
   "cell_type": "code",
   "execution_count": 31,
   "id": "16f76554-fe7d-4882-8e78-9005b516aa98",
   "metadata": {},
   "outputs": [
    {
     "data": {
      "text/plain": [
       "AnnData object with n_obs × n_vars = 2025 × 23964\n",
       "    obs: 'total_counts', 'n_genes_by_counts', 'log1p_n_genes_by_counts', 'log1p_total_counts', 'pct_counts_in_top_50_genes', 'pct_counts_in_top_100_genes', 'pct_counts_in_top_200_genes', 'pct_counts_in_top_500_genes', 'total_counts_Mitochondrial', 'log1p_total_counts_Mitochondrial', 'pct_counts_Mitochondrial', 'dropkick_score', 'dropkick_label', 'arcsinh_n_genes_by_counts', 'n_counts', 'leiden', 'total_counts_ambient', 'log1p_total_counts_ambient', 'pct_counts_ambient', 'dk_label2', 'isEE', 'isTUF', 'cell_type'\n",
       "    var: 'Mitochondrial', 'n_cells_by_counts', 'mean_counts', 'log1p_mean_counts', 'pct_dropout_by_counts', 'total_counts', 'log1p_total_counts', 'mito', 'ambient', 'dropkick_coef', 'mean', 'std', 'n_counts'\n",
       "    uns: 'Order', 'cell_type_colors', 'dk_label2_colors', 'dropkick_args', 'dropkick_label_colors', 'dropkick_thresholds', 'inflection1', 'inflection_fold', 'isEE_colors', 'isTUF_colors', 'leiden', 'leiden_colors', 'neighbors', 'pca', 'umap'\n",
       "    obsm: 'X_pca', 'X_umap'\n",
       "    varm: 'PCs'\n",
       "    layers: 'arcsinh', 'raw_counts'\n",
       "    obsp: 'connectivities', 'distances'"
      ]
     },
     "execution_count": 31,
     "metadata": {},
     "output_type": "execute_result"
    }
   ],
   "source": [
    "dat6"
   ]
  },
  {
   "cell_type": "code",
   "execution_count": null,
   "id": "06426ebb-8c3b-44e0-aa21-c3de140b8a03",
   "metadata": {},
   "outputs": [],
   "source": []
  },
  {
   "cell_type": "code",
   "execution_count": 32,
   "id": "34e91e11-b890-40fe-be3b-05d1368da879",
   "metadata": {},
   "outputs": [],
   "source": [
    "dat6.obs = dat6.obs[ obs_keep]"
   ]
  },
  {
   "cell_type": "code",
   "execution_count": 33,
   "id": "de180ddb-eddd-418f-8d49-83ba3523a2d4",
   "metadata": {},
   "outputs": [],
   "source": [
    "dat6.var = dat6.var[ var_keep]"
   ]
  },
  {
   "cell_type": "code",
   "execution_count": 34,
   "id": "75d1a95c-7682-4e82-91b6-c71db37b519a",
   "metadata": {},
   "outputs": [],
   "source": [
    "dat6.uns =  {k: dat6.uns[k] for k in uns_keep}"
   ]
  },
  {
   "cell_type": "code",
   "execution_count": null,
   "id": "bb2e4ff1-ee70-4d63-813b-7e41de386e0e",
   "metadata": {},
   "outputs": [],
   "source": []
  },
  {
   "cell_type": "markdown",
   "id": "7c1896e0-bd5d-4b2b-afd7-5917b2172380",
   "metadata": {},
   "source": [
    "## save data"
   ]
  },
  {
   "cell_type": "code",
   "execution_count": 38,
   "id": "1f241937-2567-4418-ae3e-7d11d41b0837",
   "metadata": {},
   "outputs": [],
   "source": [
    "dat_ls = [dat1, dat2, dat3, dat5, dat6 ]"
   ]
  },
  {
   "cell_type": "code",
   "execution_count": 1,
   "id": "0a26a5ff-689f-4916-988f-91d05815adf4",
   "metadata": {},
   "outputs": [],
   "source": [
    "save_names = [ f'10868_{i}.h5ad' for i in [1,2,3,5] ] + ['11283_1.h5ad']"
   ]
  },
  {
   "cell_type": "code",
   "execution_count": 2,
   "id": "06c1299b-983e-409e-9d45-4ed190feaa2f",
   "metadata": {},
   "outputs": [
    {
     "data": {
      "text/plain": [
       "['10868_1.h5ad',\n",
       " '10868_2.h5ad',\n",
       " '10868_3.h5ad',\n",
       " '10868_5.h5ad',\n",
       " '11283_1.h5ad']"
      ]
     },
     "execution_count": 2,
     "metadata": {},
     "output_type": "execute_result"
    }
   ],
   "source": [
    "save_names"
   ]
  },
  {
   "cell_type": "code",
   "execution_count": 40,
   "id": "0d0fbe50-a598-41f8-baae-0aa2c11892a4",
   "metadata": {},
   "outputs": [],
   "source": [
    "for i in range(len( dat_ls)):\n",
    "    dat_ls[i].write(\"./data_upload/\" + save_names[i] )"
   ]
  },
  {
   "cell_type": "code",
   "execution_count": null,
   "id": "77d3ca56-6d38-46a0-b5aa-22f33f4a02f1",
   "metadata": {},
   "outputs": [],
   "source": []
  },
  {
   "cell_type": "code",
   "execution_count": null,
   "id": "819c36d3-f21e-4629-8e70-320ec384e435",
   "metadata": {},
   "outputs": [],
   "source": []
  },
  {
   "cell_type": "markdown",
   "id": "95994ba5-bb8e-4f79-ae00-e969380dda08",
   "metadata": {},
   "source": [
    "## save to csv"
   ]
  },
  {
   "cell_type": "code",
   "execution_count": 5,
   "id": "f13cf0db-573c-4d88-b3bf-f614f5c7f361",
   "metadata": {},
   "outputs": [],
   "source": [
    "dat_ls = []\n",
    "for dn in save_names:\n",
    "    d = sc.read( \"./data_upload/\" + dn)\n",
    "    dat_ls.append( d )"
   ]
  },
  {
   "cell_type": "code",
   "execution_count": 6,
   "id": "ac6f72b4-b11d-425e-9430-9ac263bc1dae",
   "metadata": {},
   "outputs": [
    {
     "data": {
      "text/plain": [
       "5"
      ]
     },
     "execution_count": 6,
     "metadata": {},
     "output_type": "execute_result"
    }
   ],
   "source": [
    "len( dat_ls)"
   ]
  },
  {
   "cell_type": "code",
   "execution_count": 8,
   "id": "f7af7c44-ccaf-4378-a16a-54bfd1acb72c",
   "metadata": {},
   "outputs": [],
   "source": [
    "csv_names =  [ f'10868_{i}.csv' for i in [1,2,3,5] ] + ['11283_1.csv']"
   ]
  },
  {
   "cell_type": "code",
   "execution_count": 12,
   "id": "9357a4aa-16d5-48ae-96d2-795a4a0ea495",
   "metadata": {},
   "outputs": [
    {
     "data": {
      "text/plain": [
       "['10868_1.csv', '10868_2.csv', '10868_3.csv', '10868_5.csv', '11283_1.csv']"
      ]
     },
     "execution_count": 12,
     "metadata": {},
     "output_type": "execute_result"
    }
   ],
   "source": [
    "csv_names"
   ]
  },
  {
   "cell_type": "code",
   "execution_count": 11,
   "id": "b42317da-8880-4ec1-9898-30b2332e6d32",
   "metadata": {},
   "outputs": [],
   "source": [
    "for i in range( len( dat_ls)):\n",
    "    d.to_df().to_csv(\"./data_upload/\" + csv_names[i] )"
   ]
  },
  {
   "cell_type": "code",
   "execution_count": null,
   "id": "421e73cd-b3b9-4626-86d6-db3a0d5aac08",
   "metadata": {},
   "outputs": [],
   "source": []
  }
 ],
 "metadata": {
  "kernelspec": {
   "display_name": "qc_pipe",
   "language": "python",
   "name": "qc_pipe"
  },
  "language_info": {
   "codemirror_mode": {
    "name": "ipython",
    "version": 3
   },
   "file_extension": ".py",
   "mimetype": "text/x-python",
   "name": "python",
   "nbconvert_exporter": "python",
   "pygments_lexer": "ipython3",
   "version": "3.8.5"
  }
 },
 "nbformat": 4,
 "nbformat_minor": 5
}
